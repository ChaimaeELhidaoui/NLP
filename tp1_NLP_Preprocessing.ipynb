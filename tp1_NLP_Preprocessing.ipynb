{
  "nbformat": 4,
  "nbformat_minor": 0,
  "metadata": {
    "colab": {
      "provenance": []
    },
    "kernelspec": {
      "name": "python3",
      "display_name": "Python 3"
    },
    "language_info": {
      "name": "python"
    }
  },
  "cells": [
    {
      "cell_type": "code",
      "execution_count": null,
      "metadata": {
        "id": "-F7auITmQcSx",
        "colab": {
          "base_uri": "https://localhost:8080/"
        },
        "outputId": "3248c252-08c0-47dc-c59f-f47e69f591b5"
      },
      "outputs": [
        {
          "output_type": "stream",
          "name": "stdout",
          "text": [
            "Collecting opendatasets\n",
            "  Downloading opendatasets-0.1.22-py3-none-any.whl (15 kB)\n",
            "Requirement already satisfied: tqdm in /usr/local/lib/python3.10/dist-packages (from opendatasets) (4.66.1)\n",
            "Requirement already satisfied: kaggle in /usr/local/lib/python3.10/dist-packages (from opendatasets) (1.5.16)\n",
            "Requirement already satisfied: click in /usr/local/lib/python3.10/dist-packages (from opendatasets) (8.1.7)\n",
            "Requirement already satisfied: six>=1.10 in /usr/local/lib/python3.10/dist-packages (from kaggle->opendatasets) (1.16.0)\n",
            "Requirement already satisfied: certifi in /usr/local/lib/python3.10/dist-packages (from kaggle->opendatasets) (2023.7.22)\n",
            "Requirement already satisfied: python-dateutil in /usr/local/lib/python3.10/dist-packages (from kaggle->opendatasets) (2.8.2)\n",
            "Requirement already satisfied: requests in /usr/local/lib/python3.10/dist-packages (from kaggle->opendatasets) (2.31.0)\n",
            "Requirement already satisfied: python-slugify in /usr/local/lib/python3.10/dist-packages (from kaggle->opendatasets) (8.0.1)\n",
            "Requirement already satisfied: urllib3 in /usr/local/lib/python3.10/dist-packages (from kaggle->opendatasets) (2.0.7)\n",
            "Requirement already satisfied: bleach in /usr/local/lib/python3.10/dist-packages (from kaggle->opendatasets) (6.1.0)\n",
            "Requirement already satisfied: webencodings in /usr/local/lib/python3.10/dist-packages (from bleach->kaggle->opendatasets) (0.5.1)\n",
            "Requirement already satisfied: text-unidecode>=1.3 in /usr/local/lib/python3.10/dist-packages (from python-slugify->kaggle->opendatasets) (1.3)\n",
            "Requirement already satisfied: charset-normalizer<4,>=2 in /usr/local/lib/python3.10/dist-packages (from requests->kaggle->opendatasets) (3.3.0)\n",
            "Requirement already satisfied: idna<4,>=2.5 in /usr/local/lib/python3.10/dist-packages (from requests->kaggle->opendatasets) (3.4)\n",
            "Installing collected packages: opendatasets\n",
            "Successfully installed opendatasets-0.1.22\n",
            "Requirement already satisfied: pandas in /usr/local/lib/python3.10/dist-packages (1.5.3)\n",
            "Requirement already satisfied: python-dateutil>=2.8.1 in /usr/local/lib/python3.10/dist-packages (from pandas) (2.8.2)\n",
            "Requirement already satisfied: pytz>=2020.1 in /usr/local/lib/python3.10/dist-packages (from pandas) (2023.3.post1)\n",
            "Requirement already satisfied: numpy>=1.21.0 in /usr/local/lib/python3.10/dist-packages (from pandas) (1.23.5)\n",
            "Requirement already satisfied: six>=1.5 in /usr/local/lib/python3.10/dist-packages (from python-dateutil>=2.8.1->pandas) (1.16.0)\n"
          ]
        }
      ],
      "source": [
        "#facilite le téléchargement de jeux de données open source directement à partir de sources en ligne\n",
        "!pip install opendatasets\n",
        "# Elle fournit des structures de données flexibles et performantes, notamment des DataFrames\n",
        "!pip install pandas"
      ]
    },
    {
      "cell_type": "code",
      "source": [
        "#on crée un répertoire caché \"kaggle\" dans le répertoire \"/root/\" (s'il n'existe pas déjà), copie le fichier \"kaggle.json\" dans ce répertoire,\n",
        "!mkdir -p /root/.kaggle\n",
        "!cp kaggle.json /root/.kaggle/\n",
        "!chmod 600 /root/.kaggle/kaggle.json\n"
      ],
      "metadata": {
        "id": "tc6_e5AecA3k"
      },
      "execution_count": null,
      "outputs": []
    },
    {
      "cell_type": "code",
      "source": [
        "!kaggle datasets download -d thoughtvector/customer-support-on-twitter"
      ],
      "metadata": {
        "colab": {
          "base_uri": "https://localhost:8080/"
        },
        "id": "7GVF8JhqcHUy",
        "outputId": "4d8008f6-92b3-4cba-ea26-43932091ab7b"
      },
      "execution_count": null,
      "outputs": [
        {
          "output_type": "stream",
          "name": "stdout",
          "text": [
            "Downloading customer-support-on-twitter.zip to /content\n",
            " 94% 159M/169M [00:01<00:00, 159MB/s]\n",
            "100% 169M/169M [00:01<00:00, 130MB/s]\n"
          ]
        }
      ]
    },
    {
      "cell_type": "code",
      "source": [
        "!unzip /content/customer-support-on-twitter.zip"
      ],
      "metadata": {
        "colab": {
          "base_uri": "https://localhost:8080/"
        },
        "id": "HragP69vccuf",
        "outputId": "0fc48f50-de1a-4055-8439-d228fbd58f9f"
      },
      "execution_count": null,
      "outputs": [
        {
          "output_type": "stream",
          "name": "stdout",
          "text": [
            "Archive:  /content/customer-support-on-twitter.zip\n",
            "  inflating: sample.csv              \n",
            "  inflating: twcs/twcs.csv           \n"
          ]
        }
      ]
    },
    {
      "cell_type": "code",
      "source": [
        "import pandas as pd\n",
        "import numpy as np\n",
        "import matplotlib.pyplot as plt"
      ],
      "metadata": {
        "id": "Z0v_Al5SYa2-"
      },
      "execution_count": null,
      "outputs": []
    },
    {
      "cell_type": "markdown",
      "source": [
        "\n",
        "**Import dataset**"
      ],
      "metadata": {
        "id": "OWMfJmX9cktq"
      }
    },
    {
      "cell_type": "code",
      "source": [
        "df = pd.read_csv('/content/sample.csv')\n",
        "df"
      ],
      "metadata": {
        "colab": {
          "base_uri": "https://localhost:8080/",
          "height": 597
        },
        "id": "Ww25OAstcooh",
        "outputId": "8111e90f-7bfe-4d97-937e-72a80d9304d1"
      },
      "execution_count": null,
      "outputs": [
        {
          "output_type": "execute_result",
          "data": {
            "text/plain": [
              "    tweet_id     author_id  inbound                      created_at  \\\n",
              "0     119237        105834     True  Wed Oct 11 06:55:44 +0000 2017   \n",
              "1     119238  ChaseSupport    False  Wed Oct 11 13:25:49 +0000 2017   \n",
              "2     119239        105835     True  Wed Oct 11 13:00:09 +0000 2017   \n",
              "3     119240  VirginTrains    False  Tue Oct 10 15:16:08 +0000 2017   \n",
              "4     119241        105836     True  Tue Oct 10 15:17:21 +0000 2017   \n",
              "..       ...           ...      ...                             ...   \n",
              "88    119330        105859     True  Wed Oct 11 13:50:42 +0000 2017   \n",
              "89    119331        105860     True  Wed Oct 11 13:47:14 +0000 2017   \n",
              "90    119332         Tesco    False  Wed Oct 11 13:34:06 +0000 2017   \n",
              "91    119333        105861     True  Wed Oct 11 14:05:18 +0000 2017   \n",
              "92    119335         Tesco    False  Wed Oct 11 15:38:07 +0000 2017   \n",
              "\n",
              "                                                 text response_tweet_id  \\\n",
              "0   @AppleSupport causing the reply to be disregar...            119236   \n",
              "1   @105835 Your business means a lot to us. Pleas...               NaN   \n",
              "2   @76328 I really hope you all change but I'm su...            119238   \n",
              "3   @105836 LiveChat is online at the moment - htt...            119241   \n",
              "4   @VirginTrains see attached error message. I've...            119243   \n",
              "..                                                ...               ...   \n",
              "88  @105860 I wish Amazon had an option of where I...            119329   \n",
              "89  They reschedule my shit for tomorrow https://t...            119330   \n",
              "90  @105861 Hey Sara, sorry to hear of the issues ...            119333   \n",
              "91  @Tesco bit of both - finding the layout cumber...     119335,119336   \n",
              "92  @105861 If that doesn't help please DM your fu...               NaN   \n",
              "\n",
              "    in_response_to_tweet_id  \n",
              "0                       NaN  \n",
              "1                  119239.0  \n",
              "2                       NaN  \n",
              "3                  119242.0  \n",
              "4                  119240.0  \n",
              "..                      ...  \n",
              "88                 119331.0  \n",
              "89                      NaN  \n",
              "90                 119334.0  \n",
              "91                 119332.0  \n",
              "92                 119333.0  \n",
              "\n",
              "[93 rows x 7 columns]"
            ],
            "text/html": [
              "\n",
              "  <div id=\"df-0516870c-2817-4727-bf7c-c084615424f0\" class=\"colab-df-container\">\n",
              "    <div>\n",
              "<style scoped>\n",
              "    .dataframe tbody tr th:only-of-type {\n",
              "        vertical-align: middle;\n",
              "    }\n",
              "\n",
              "    .dataframe tbody tr th {\n",
              "        vertical-align: top;\n",
              "    }\n",
              "\n",
              "    .dataframe thead th {\n",
              "        text-align: right;\n",
              "    }\n",
              "</style>\n",
              "<table border=\"1\" class=\"dataframe\">\n",
              "  <thead>\n",
              "    <tr style=\"text-align: right;\">\n",
              "      <th></th>\n",
              "      <th>tweet_id</th>\n",
              "      <th>author_id</th>\n",
              "      <th>inbound</th>\n",
              "      <th>created_at</th>\n",
              "      <th>text</th>\n",
              "      <th>response_tweet_id</th>\n",
              "      <th>in_response_to_tweet_id</th>\n",
              "    </tr>\n",
              "  </thead>\n",
              "  <tbody>\n",
              "    <tr>\n",
              "      <th>0</th>\n",
              "      <td>119237</td>\n",
              "      <td>105834</td>\n",
              "      <td>True</td>\n",
              "      <td>Wed Oct 11 06:55:44 +0000 2017</td>\n",
              "      <td>@AppleSupport causing the reply to be disregar...</td>\n",
              "      <td>119236</td>\n",
              "      <td>NaN</td>\n",
              "    </tr>\n",
              "    <tr>\n",
              "      <th>1</th>\n",
              "      <td>119238</td>\n",
              "      <td>ChaseSupport</td>\n",
              "      <td>False</td>\n",
              "      <td>Wed Oct 11 13:25:49 +0000 2017</td>\n",
              "      <td>@105835 Your business means a lot to us. Pleas...</td>\n",
              "      <td>NaN</td>\n",
              "      <td>119239.0</td>\n",
              "    </tr>\n",
              "    <tr>\n",
              "      <th>2</th>\n",
              "      <td>119239</td>\n",
              "      <td>105835</td>\n",
              "      <td>True</td>\n",
              "      <td>Wed Oct 11 13:00:09 +0000 2017</td>\n",
              "      <td>@76328 I really hope you all change but I'm su...</td>\n",
              "      <td>119238</td>\n",
              "      <td>NaN</td>\n",
              "    </tr>\n",
              "    <tr>\n",
              "      <th>3</th>\n",
              "      <td>119240</td>\n",
              "      <td>VirginTrains</td>\n",
              "      <td>False</td>\n",
              "      <td>Tue Oct 10 15:16:08 +0000 2017</td>\n",
              "      <td>@105836 LiveChat is online at the moment - htt...</td>\n",
              "      <td>119241</td>\n",
              "      <td>119242.0</td>\n",
              "    </tr>\n",
              "    <tr>\n",
              "      <th>4</th>\n",
              "      <td>119241</td>\n",
              "      <td>105836</td>\n",
              "      <td>True</td>\n",
              "      <td>Tue Oct 10 15:17:21 +0000 2017</td>\n",
              "      <td>@VirginTrains see attached error message. I've...</td>\n",
              "      <td>119243</td>\n",
              "      <td>119240.0</td>\n",
              "    </tr>\n",
              "    <tr>\n",
              "      <th>...</th>\n",
              "      <td>...</td>\n",
              "      <td>...</td>\n",
              "      <td>...</td>\n",
              "      <td>...</td>\n",
              "      <td>...</td>\n",
              "      <td>...</td>\n",
              "      <td>...</td>\n",
              "    </tr>\n",
              "    <tr>\n",
              "      <th>88</th>\n",
              "      <td>119330</td>\n",
              "      <td>105859</td>\n",
              "      <td>True</td>\n",
              "      <td>Wed Oct 11 13:50:42 +0000 2017</td>\n",
              "      <td>@105860 I wish Amazon had an option of where I...</td>\n",
              "      <td>119329</td>\n",
              "      <td>119331.0</td>\n",
              "    </tr>\n",
              "    <tr>\n",
              "      <th>89</th>\n",
              "      <td>119331</td>\n",
              "      <td>105860</td>\n",
              "      <td>True</td>\n",
              "      <td>Wed Oct 11 13:47:14 +0000 2017</td>\n",
              "      <td>They reschedule my shit for tomorrow https://t...</td>\n",
              "      <td>119330</td>\n",
              "      <td>NaN</td>\n",
              "    </tr>\n",
              "    <tr>\n",
              "      <th>90</th>\n",
              "      <td>119332</td>\n",
              "      <td>Tesco</td>\n",
              "      <td>False</td>\n",
              "      <td>Wed Oct 11 13:34:06 +0000 2017</td>\n",
              "      <td>@105861 Hey Sara, sorry to hear of the issues ...</td>\n",
              "      <td>119333</td>\n",
              "      <td>119334.0</td>\n",
              "    </tr>\n",
              "    <tr>\n",
              "      <th>91</th>\n",
              "      <td>119333</td>\n",
              "      <td>105861</td>\n",
              "      <td>True</td>\n",
              "      <td>Wed Oct 11 14:05:18 +0000 2017</td>\n",
              "      <td>@Tesco bit of both - finding the layout cumber...</td>\n",
              "      <td>119335,119336</td>\n",
              "      <td>119332.0</td>\n",
              "    </tr>\n",
              "    <tr>\n",
              "      <th>92</th>\n",
              "      <td>119335</td>\n",
              "      <td>Tesco</td>\n",
              "      <td>False</td>\n",
              "      <td>Wed Oct 11 15:38:07 +0000 2017</td>\n",
              "      <td>@105861 If that doesn't help please DM your fu...</td>\n",
              "      <td>NaN</td>\n",
              "      <td>119333.0</td>\n",
              "    </tr>\n",
              "  </tbody>\n",
              "</table>\n",
              "<p>93 rows × 7 columns</p>\n",
              "</div>\n",
              "    <div class=\"colab-df-buttons\">\n",
              "\n",
              "  <div class=\"colab-df-container\">\n",
              "    <button class=\"colab-df-convert\" onclick=\"convertToInteractive('df-0516870c-2817-4727-bf7c-c084615424f0')\"\n",
              "            title=\"Convert this dataframe to an interactive table.\"\n",
              "            style=\"display:none;\">\n",
              "\n",
              "  <svg xmlns=\"http://www.w3.org/2000/svg\" height=\"24px\" viewBox=\"0 -960 960 960\">\n",
              "    <path d=\"M120-120v-720h720v720H120Zm60-500h600v-160H180v160Zm220 220h160v-160H400v160Zm0 220h160v-160H400v160ZM180-400h160v-160H180v160Zm440 0h160v-160H620v160ZM180-180h160v-160H180v160Zm440 0h160v-160H620v160Z\"/>\n",
              "  </svg>\n",
              "    </button>\n",
              "\n",
              "  <style>\n",
              "    .colab-df-container {\n",
              "      display:flex;\n",
              "      gap: 12px;\n",
              "    }\n",
              "\n",
              "    .colab-df-convert {\n",
              "      background-color: #E8F0FE;\n",
              "      border: none;\n",
              "      border-radius: 50%;\n",
              "      cursor: pointer;\n",
              "      display: none;\n",
              "      fill: #1967D2;\n",
              "      height: 32px;\n",
              "      padding: 0 0 0 0;\n",
              "      width: 32px;\n",
              "    }\n",
              "\n",
              "    .colab-df-convert:hover {\n",
              "      background-color: #E2EBFA;\n",
              "      box-shadow: 0px 1px 2px rgba(60, 64, 67, 0.3), 0px 1px 3px 1px rgba(60, 64, 67, 0.15);\n",
              "      fill: #174EA6;\n",
              "    }\n",
              "\n",
              "    .colab-df-buttons div {\n",
              "      margin-bottom: 4px;\n",
              "    }\n",
              "\n",
              "    [theme=dark] .colab-df-convert {\n",
              "      background-color: #3B4455;\n",
              "      fill: #D2E3FC;\n",
              "    }\n",
              "\n",
              "    [theme=dark] .colab-df-convert:hover {\n",
              "      background-color: #434B5C;\n",
              "      box-shadow: 0px 1px 3px 1px rgba(0, 0, 0, 0.15);\n",
              "      filter: drop-shadow(0px 1px 2px rgba(0, 0, 0, 0.3));\n",
              "      fill: #FFFFFF;\n",
              "    }\n",
              "  </style>\n",
              "\n",
              "    <script>\n",
              "      const buttonEl =\n",
              "        document.querySelector('#df-0516870c-2817-4727-bf7c-c084615424f0 button.colab-df-convert');\n",
              "      buttonEl.style.display =\n",
              "        google.colab.kernel.accessAllowed ? 'block' : 'none';\n",
              "\n",
              "      async function convertToInteractive(key) {\n",
              "        const element = document.querySelector('#df-0516870c-2817-4727-bf7c-c084615424f0');\n",
              "        const dataTable =\n",
              "          await google.colab.kernel.invokeFunction('convertToInteractive',\n",
              "                                                    [key], {});\n",
              "        if (!dataTable) return;\n",
              "\n",
              "        const docLinkHtml = 'Like what you see? Visit the ' +\n",
              "          '<a target=\"_blank\" href=https://colab.research.google.com/notebooks/data_table.ipynb>data table notebook</a>'\n",
              "          + ' to learn more about interactive tables.';\n",
              "        element.innerHTML = '';\n",
              "        dataTable['output_type'] = 'display_data';\n",
              "        await google.colab.output.renderOutput(dataTable, element);\n",
              "        const docLink = document.createElement('div');\n",
              "        docLink.innerHTML = docLinkHtml;\n",
              "        element.appendChild(docLink);\n",
              "      }\n",
              "    </script>\n",
              "  </div>\n",
              "\n",
              "\n",
              "<div id=\"df-3698a007-63e4-4e51-8930-9177b29496e7\">\n",
              "  <button class=\"colab-df-quickchart\" onclick=\"quickchart('df-3698a007-63e4-4e51-8930-9177b29496e7')\"\n",
              "            title=\"Suggest charts.\"\n",
              "            style=\"display:none;\">\n",
              "\n",
              "<svg xmlns=\"http://www.w3.org/2000/svg\" height=\"24px\"viewBox=\"0 0 24 24\"\n",
              "     width=\"24px\">\n",
              "    <g>\n",
              "        <path d=\"M19 3H5c-1.1 0-2 .9-2 2v14c0 1.1.9 2 2 2h14c1.1 0 2-.9 2-2V5c0-1.1-.9-2-2-2zM9 17H7v-7h2v7zm4 0h-2V7h2v10zm4 0h-2v-4h2v4z\"/>\n",
              "    </g>\n",
              "</svg>\n",
              "  </button>\n",
              "\n",
              "<style>\n",
              "  .colab-df-quickchart {\n",
              "      --bg-color: #E8F0FE;\n",
              "      --fill-color: #1967D2;\n",
              "      --hover-bg-color: #E2EBFA;\n",
              "      --hover-fill-color: #174EA6;\n",
              "      --disabled-fill-color: #AAA;\n",
              "      --disabled-bg-color: #DDD;\n",
              "  }\n",
              "\n",
              "  [theme=dark] .colab-df-quickchart {\n",
              "      --bg-color: #3B4455;\n",
              "      --fill-color: #D2E3FC;\n",
              "      --hover-bg-color: #434B5C;\n",
              "      --hover-fill-color: #FFFFFF;\n",
              "      --disabled-bg-color: #3B4455;\n",
              "      --disabled-fill-color: #666;\n",
              "  }\n",
              "\n",
              "  .colab-df-quickchart {\n",
              "    background-color: var(--bg-color);\n",
              "    border: none;\n",
              "    border-radius: 50%;\n",
              "    cursor: pointer;\n",
              "    display: none;\n",
              "    fill: var(--fill-color);\n",
              "    height: 32px;\n",
              "    padding: 0;\n",
              "    width: 32px;\n",
              "  }\n",
              "\n",
              "  .colab-df-quickchart:hover {\n",
              "    background-color: var(--hover-bg-color);\n",
              "    box-shadow: 0 1px 2px rgba(60, 64, 67, 0.3), 0 1px 3px 1px rgba(60, 64, 67, 0.15);\n",
              "    fill: var(--button-hover-fill-color);\n",
              "  }\n",
              "\n",
              "  .colab-df-quickchart-complete:disabled,\n",
              "  .colab-df-quickchart-complete:disabled:hover {\n",
              "    background-color: var(--disabled-bg-color);\n",
              "    fill: var(--disabled-fill-color);\n",
              "    box-shadow: none;\n",
              "  }\n",
              "\n",
              "  .colab-df-spinner {\n",
              "    border: 2px solid var(--fill-color);\n",
              "    border-color: transparent;\n",
              "    border-bottom-color: var(--fill-color);\n",
              "    animation:\n",
              "      spin 1s steps(1) infinite;\n",
              "  }\n",
              "\n",
              "  @keyframes spin {\n",
              "    0% {\n",
              "      border-color: transparent;\n",
              "      border-bottom-color: var(--fill-color);\n",
              "      border-left-color: var(--fill-color);\n",
              "    }\n",
              "    20% {\n",
              "      border-color: transparent;\n",
              "      border-left-color: var(--fill-color);\n",
              "      border-top-color: var(--fill-color);\n",
              "    }\n",
              "    30% {\n",
              "      border-color: transparent;\n",
              "      border-left-color: var(--fill-color);\n",
              "      border-top-color: var(--fill-color);\n",
              "      border-right-color: var(--fill-color);\n",
              "    }\n",
              "    40% {\n",
              "      border-color: transparent;\n",
              "      border-right-color: var(--fill-color);\n",
              "      border-top-color: var(--fill-color);\n",
              "    }\n",
              "    60% {\n",
              "      border-color: transparent;\n",
              "      border-right-color: var(--fill-color);\n",
              "    }\n",
              "    80% {\n",
              "      border-color: transparent;\n",
              "      border-right-color: var(--fill-color);\n",
              "      border-bottom-color: var(--fill-color);\n",
              "    }\n",
              "    90% {\n",
              "      border-color: transparent;\n",
              "      border-bottom-color: var(--fill-color);\n",
              "    }\n",
              "  }\n",
              "</style>\n",
              "\n",
              "  <script>\n",
              "    async function quickchart(key) {\n",
              "      const quickchartButtonEl =\n",
              "        document.querySelector('#' + key + ' button');\n",
              "      quickchartButtonEl.disabled = true;  // To prevent multiple clicks.\n",
              "      quickchartButtonEl.classList.add('colab-df-spinner');\n",
              "      try {\n",
              "        const charts = await google.colab.kernel.invokeFunction(\n",
              "            'suggestCharts', [key], {});\n",
              "      } catch (error) {\n",
              "        console.error('Error during call to suggestCharts:', error);\n",
              "      }\n",
              "      quickchartButtonEl.classList.remove('colab-df-spinner');\n",
              "      quickchartButtonEl.classList.add('colab-df-quickchart-complete');\n",
              "    }\n",
              "    (() => {\n",
              "      let quickchartButtonEl =\n",
              "        document.querySelector('#df-3698a007-63e4-4e51-8930-9177b29496e7 button');\n",
              "      quickchartButtonEl.style.display =\n",
              "        google.colab.kernel.accessAllowed ? 'block' : 'none';\n",
              "    })();\n",
              "  </script>\n",
              "</div>\n",
              "    </div>\n",
              "  </div>\n"
            ]
          },
          "metadata": {},
          "execution_count": 45
        }
      ]
    },
    {
      "cell_type": "code",
      "source": [
        "#EXTRACT TWEETS ONLY\n",
        "tweets = df['text']\n",
        "tweets.head()"
      ],
      "metadata": {
        "colab": {
          "base_uri": "https://localhost:8080/"
        },
        "id": "KXlJwRapc73U",
        "outputId": "72b04da9-dd41-47f5-b246-bd801cb20854"
      },
      "execution_count": null,
      "outputs": [
        {
          "output_type": "execute_result",
          "data": {
            "text/plain": [
              "0    @AppleSupport causing the reply to be disregar...\n",
              "1    @105835 Your business means a lot to us. Pleas...\n",
              "2    @76328 I really hope you all change but I'm su...\n",
              "3    @105836 LiveChat is online at the moment - htt...\n",
              "4    @VirginTrains see attached error message. I've...\n",
              "Name: text, dtype: object"
            ]
          },
          "metadata": {},
          "execution_count": 46
        }
      ]
    },
    {
      "cell_type": "code",
      "source": [
        "import re\n",
        "import nltk\n",
        "import spacy\n",
        "import string"
      ],
      "metadata": {
        "id": "l-VHirZxdP5n"
      },
      "execution_count": null,
      "outputs": []
    },
    {
      "cell_type": "code",
      "source": [
        "# lower case :\n",
        "tweets = tweets.str.lower()\n",
        "\n",
        "# remove punctuation\n",
        "# appliquer une fonction lambda à chaque élément de la série (ou colonne) \"tweets\".\n",
        "# text représente chaque élément individuel de la série.\n",
        "# La fonction re.sub(r'[^\\w\\s]', '', text) utilise le module de expressions régulières re pour supprimer tous les caractères\n",
        "tweets = tweets.apply(lambda text: re.sub(r'[^\\w\\s]', '', text))\n"
      ],
      "metadata": {
        "id": "reCbJSGOdZ5n"
      },
      "execution_count": null,
      "outputs": []
    },
    {
      "cell_type": "code",
      "source": [
        "tweets.head()"
      ],
      "metadata": {
        "colab": {
          "base_uri": "https://localhost:8080/"
        },
        "id": "NxtmFJIbVAiX",
        "outputId": "6b84aaf8-2e21-44e8-fabf-9d16d51a68d5"
      },
      "execution_count": null,
      "outputs": [
        {
          "output_type": "execute_result",
          "data": {
            "text/plain": [
              "0    applesupport causing the reply to be disregard...\n",
              "1    105835 your business means a lot to us please ...\n",
              "2    76328 i really hope you all change but im sure...\n",
              "3    105836 livechat is online at the moment  https...\n",
              "4    virgintrains see attached error message ive tr...\n",
              "Name: text, dtype: object"
            ]
          },
          "metadata": {},
          "execution_count": 48
        }
      ]
    },
    {
      "cell_type": "code",
      "source": [
        "import nltk\n",
        "nltk.download('stopwords') #Télécharge la liste des mots vides (stopwords) de NLTK.\n",
        "nltk.download('punkt') #Télécharge le tokenizer punkt, utilisé pour diviser le texte en mots (tokenization).\n",
        "from nltk.corpus import stopwords\n",
        "from nltk.tokenize import word_tokenize #Importe la fonction word_tokenize de la bibliothèque NLTK, qui est utilisée pour diviser le texte en mots."
      ],
      "metadata": {
        "colab": {
          "base_uri": "https://localhost:8080/"
        },
        "id": "XfRTJTMmft3e",
        "outputId": "245c47a6-82d7-454f-d4e8-f7c3762910cb"
      },
      "execution_count": null,
      "outputs": [
        {
          "output_type": "stream",
          "name": "stderr",
          "text": [
            "[nltk_data] Downloading package stopwords to /root/nltk_data...\n",
            "[nltk_data]   Package stopwords is already up-to-date!\n",
            "[nltk_data] Downloading package punkt to /root/nltk_data...\n",
            "[nltk_data]   Package punkt is already up-to-date!\n"
          ]
        }
      ]
    },
    {
      "cell_type": "code",
      "source": [
        "#stopwords.words('english'): Récupère la liste des stopwords en anglais à partir de la bibliothèque NLTK.\n",
        "#set(stopwords.words('english')): Convertit la liste de stopwords en un ensemble (set) pour une recherche plus efficace.\n",
        "s_words = set(stopwords.words('english'))\n",
        "#C'est une fonction lambda qui prend un texte en entrée. Elle divise le texte en mots, puis crée une liste de mots\n",
        "#où chaque mot n'est inclus que s'il n'est pas dans l'ensemble\n",
        "# des stopwords. Enfin, elle utilise \" \".join(...) pour reconstituer le texte en joignant les mots restants avec des espaces.\n",
        "tweets = tweets.apply(lambda text:\" \".join([word for word in str(text).split() if word not in s_words]))"
      ],
      "metadata": {
        "id": "Jx5S2iY7Zosm"
      },
      "execution_count": null,
      "outputs": []
    },
    {
      "cell_type": "code",
      "source": [
        "tweets.head()"
      ],
      "metadata": {
        "colab": {
          "base_uri": "https://localhost:8080/"
        },
        "id": "9ju-ZcimZ0Pd",
        "outputId": "e6efb1e2-369a-40af-9fa4-b3ee290cc7c4"
      },
      "execution_count": null,
      "outputs": [
        {
          "output_type": "execute_result",
          "data": {
            "text/plain": [
              "0    applesupport causing reply disregarded tapped ...\n",
              "1    105835 business means lot us please dm name zi...\n",
              "2           76328 really hope change im sure wont dont\n",
              "3    105836 livechat online moment httpstcosy94vtu8...\n",
              "4    virgintrains see attached error message ive tr...\n",
              "Name: text, dtype: object"
            ]
          },
          "metadata": {},
          "execution_count": 51
        }
      ]
    },
    {
      "cell_type": "code",
      "source": [
        "#tokenization\n",
        "tweets = tweets.apply(lambda text: word_tokenize(text))"
      ],
      "metadata": {
        "id": "nAoOWcIkfZIT"
      },
      "execution_count": null,
      "outputs": []
    },
    {
      "cell_type": "code",
      "source": [
        "tweets.head()"
      ],
      "metadata": {
        "colab": {
          "base_uri": "https://localhost:8080/"
        },
        "id": "dfXGrDe_WxUw",
        "outputId": "defccccc-63de-49ef-e716-ee3e61f68917"
      },
      "execution_count": null,
      "outputs": [
        {
          "output_type": "execute_result",
          "data": {
            "text/plain": [
              "0    [applesupport, causing, reply, disregarded, ta...\n",
              "1    [105835, business, means, lot, us, please, dm,...\n",
              "2    [76328, really, hope, change, im, sure, wont, ...\n",
              "3    [105836, livechat, online, moment, httpstcosy9...\n",
              "4    [virgintrains, see, attached, error, message, ...\n",
              "Name: text, dtype: object"
            ]
          },
          "metadata": {},
          "execution_count": 53
        }
      ]
    },
    {
      "cell_type": "code",
      "source": [
        "# stemming\n",
        "from nltk.stem import PorterStemmer\n",
        "word_stemmer = PorterStemmer()\n",
        "#applique la racinisation à chaque mot à l'aide de word_stemmer.stem(word).\n",
        "# Enfin, elle utilise \" \".join(...) pour reconstituer le texte en joignant les mots racinisés avec des espaces.\n",
        "tweets = tweets.apply(lambda text: \" \".join([word_stemmer.stem(word) for word in text]))\n"
      ],
      "metadata": {
        "id": "zcLXZDN5hS5h"
      },
      "execution_count": null,
      "outputs": []
    },
    {
      "cell_type": "code",
      "source": [
        "tweets.head()"
      ],
      "metadata": {
        "colab": {
          "base_uri": "https://localhost:8080/"
        },
        "id": "ypgYM1GOafHx",
        "outputId": "915cadda-6a0a-41ed-d121-4cf48779a89e"
      },
      "execution_count": null,
      "outputs": [
        {
          "output_type": "execute_result",
          "data": {
            "text/plain": [
              "0    applesupport caus repli disregard tap notif ke...\n",
              "1    105835 busi mean lot us pleas dm name zip code...\n",
              "2            76328 realli hope chang im sure wont dont\n",
              "3    105836 livechat onlin moment httpstcosy94vtu8k...\n",
              "4    virgintrain see attach error messag ive tri le...\n",
              "Name: text, dtype: object"
            ]
          },
          "metadata": {},
          "execution_count": 57
        }
      ]
    },
    {
      "cell_type": "code",
      "source": [
        "from io import TextIOBase\n",
        "#Lemmatisation\n",
        "import nltk\n",
        "nltk.download('wordnet')\n",
        "from nltk.stem import WordNetLemmatizer\n",
        "lemmatizer = WordNetLemmatizer()\n",
        "tweets = tweets.apply(lambda text:lemmatizer.lemmatize(text))"
      ],
      "metadata": {
        "colab": {
          "base_uri": "https://localhost:8080/"
        },
        "id": "Y10PGRFNi1_k",
        "outputId": "042659fc-ddf1-4226-9f15-a9c43808102b"
      },
      "execution_count": null,
      "outputs": [
        {
          "output_type": "stream",
          "name": "stderr",
          "text": [
            "[nltk_data] Downloading package wordnet to /root/nltk_data...\n"
          ]
        }
      ]
    },
    {
      "cell_type": "code",
      "source": [
        "tweets.head()"
      ],
      "metadata": {
        "colab": {
          "base_uri": "https://localhost:8080/"
        },
        "id": "2XKieqcudbha",
        "outputId": "f231f2ee-6f62-4d14-b2ec-58974802d025"
      },
      "execution_count": null,
      "outputs": [
        {
          "output_type": "execute_result",
          "data": {
            "text/plain": [
              "0    applesupport caus repli disregard tap notif ke...\n",
              "1    105835 busi mean lot us pleas dm name zip code...\n",
              "2            76328 realli hope chang im sure wont dont\n",
              "3    105836 livechat onlin moment httpstcosy94vtu8k...\n",
              "4    virgintrain see attach error messag ive tri le...\n",
              "Name: text, dtype: object"
            ]
          },
          "metadata": {},
          "execution_count": 59
        }
      ]
    }
  ]
}